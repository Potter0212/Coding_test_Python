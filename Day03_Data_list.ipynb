{
 "cells": [
  {
   "cell_type": "markdown",
   "id": "c8a61337-97c0-4b86-af1a-eaaecea95fe2",
   "metadata": {},
   "source": [
    "# **Day03 새로운 자료구조**"
   ]
  },
  {
   "cell_type": "markdown",
   "id": "cd2114ae-9a76-4813-884e-7792a5be1461",
   "metadata": {},
   "source": [
    "정수를 저장할 수 있는 자료구조 S가 있습니다. 이 자료구조에는 command 명령이 있고, 정수 N에 대하여 다음과 같이 동작합니다.\n",
    "\n",
    "command N: S에 N이 없으면 추가하고 있으면 삭제한다.\n",
    "비어있는 S에 순서대로 command를 실행할 정수들이 들어있는 queries가 매개변수로 주어질 때, 전부 처리한 뒤 자료구조 S에 있는 정수의 개수를 return 하는 solution 함수를 작성해 주세요."
   ]
  },
  {
   "cell_type": "markdown",
   "id": "3f01343a-2024-4640-87e9-2250614fbcd6",
   "metadata": {},
   "source": [
    "## **제한사항**"
   ]
  },
  {
   "cell_type": "markdown",
   "id": "5513748b-cd30-490b-b0ce-21ed1d25598f",
   "metadata": {},
   "source": [
    "+ 1 ≤ queries의 길이 ≤ 100,000\n",
    "+ 1 ≤ queries의 원소 ≤ 1,000,000,000"
   ]
  },
  {
   "cell_type": "code",
   "execution_count": null,
   "id": "8a12a03d-b669-4723-a386-6510d26f436e",
   "metadata": {},
   "outputs": [],
   "source": [
    "def solution(queries):\n",
    "    answer = set() # 셋 선언(리스트로 선언하면 시간초과 발생)\n",
    "    for q in queries: # 주어진 쿼리 셀 순회\n",
    "        if q in answer: # 해당 값이 셋에 이미 저장되어 있을 경우\n",
    "            answer.discard(q) # 해당 값 삭제\n",
    "        else: # 해당 값이 셋에 없을 경우\n",
    "            answer.add(q) # 해당 값을 셋에 추가\n",
    "    return len(answer)"
   ]
  }
 ],
 "metadata": {
  "kernelspec": {
   "display_name": "Python 3 (ipykernel)",
   "language": "python",
   "name": "python3"
  },
  "language_info": {
   "codemirror_mode": {
    "name": "ipython",
    "version": 3
   },
   "file_extension": ".py",
   "mimetype": "text/x-python",
   "name": "python",
   "nbconvert_exporter": "python",
   "pygments_lexer": "ipython3",
   "version": "3.11.7"
  }
 },
 "nbformat": 4,
 "nbformat_minor": 5
}
