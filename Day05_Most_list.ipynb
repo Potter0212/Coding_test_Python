{
 "cells": [
  {
   "cell_type": "markdown",
   "id": "b4f7a7e3-cb34-4163-b75f-1e8ca2255eae",
   "metadata": {},
   "source": [
    "# **Day05 가장 많이 등장한 문자**"
   ]
  },
  {
   "cell_type": "markdown",
   "id": "005c6498-a3b5-4fec-93c1-255b0ef64fa7",
   "metadata": {},
   "source": [
    "어떤 문자열에 특정 알파벳이 존재한다면 그 알파벳이 \"등장\"한다고 합시다.\n",
    "\n",
    "문자열 목록을 나타내는 문자열 배열 strs가 주어집니다. 문자열 목록들 중 가장 많은 문자열에서 \"등장\"한 알파벳 문자열을 반환하는 solution 함수를 완성하세요. 만약 가장 많이 등장한 문자가 여러 개라면 모든 문자를 담은 문자열을 사전순으로 정렬해서 반환합니다."
   ]
  },
  {
   "cell_type": "markdown",
   "id": "9892b273-7201-4a55-bebe-6242525d066b",
   "metadata": {},
   "source": [
    "## **제한사항**"
   ]
  },
  {
   "cell_type": "markdown",
   "id": "296ebf09-c0db-4c5a-b2c0-b1ceca703f86",
   "metadata": {},
   "source": [
    "+ 2 ≤ strs의 길이 ≤ 10,000\n",
    "    + 1 ≤ strs의 원소의 길이 ≤ 1,000\n",
    "    + strs의 원소들은 모두 알파벳 소문자로 이루어집니다."
   ]
  },
  {
   "cell_type": "code",
   "execution_count": null,
   "id": "7af71a42-5222-496b-9723-db7f83d50e3e",
   "metadata": {},
   "outputs": [],
   "source": [
    "def solution(strs):\n",
    "    count = [0] * 26 # 알파벳이 26개가 있으니 26개의 0으로 이루어진 리스트 count 생성\n",
    "    answer = '' # 답을 저장할 변수 answer를 생성하고 문자열 생성\n",
    "    \n",
    "    for word in strs: # 문자열이 저장된 strs 리스트를 순회\n",
    "        word = set(word) # word리스트를 셋으로 선언함으로서 중복제거\n",
    "        for w in word: # 중복을 제거한 word 리스트 순회\n",
    "            count[ord(w)-ord('a')] += 1 # 각 알파벳의 아스키코드에서 a의 아스키코드를 뺀 값을 카운트인덱스로 생각해 개수를 세어준다\n",
    "    \n",
    "    max_c = max(count) # count의 최대값을 구한 값을 max_c로 생성\n",
    "    \n",
    "    for i in range(26): # count를 순회\n",
    "        if count[i] == max_c: # 최대값을 저장하고 있는 인덱스를 찾는다\n",
    "            answer += chr(ord('a') + i) # a의 아스키코드를 더하고 난 후 문자로 변환한 값을 answer에 저장\n",
    "            \n",
    "    return answer"
   ]
  }
 ],
 "metadata": {
  "kernelspec": {
   "display_name": "Python 3 (ipykernel)",
   "language": "python",
   "name": "python3"
  },
  "language_info": {
   "codemirror_mode": {
    "name": "ipython",
    "version": 3
   },
   "file_extension": ".py",
   "mimetype": "text/x-python",
   "name": "python",
   "nbconvert_exporter": "python",
   "pygments_lexer": "ipython3",
   "version": "3.11.7"
  }
 },
 "nbformat": 4,
 "nbformat_minor": 5
}
