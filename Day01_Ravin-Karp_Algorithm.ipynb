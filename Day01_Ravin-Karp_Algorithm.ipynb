{
 "cells": [
  {
   "cell_type": "code",
   "execution_count": 1,
   "id": "240a222c-83d7-4e95-bde6-5ddd550bad44",
   "metadata": {},
   "outputs": [],
   "source": [
    "def solution(x, m, myStr):\n",
    "    answer = 0 # 해싱할 결과를 저장할 변수\n",
    "    sq = 1 # x를 제곱할 결과를 저장할 변수\n",
    "    myStr = myStr[::-1] # 문자열 순서를 뒤집어서 준비함\n",
    "    \n",
    "    for s in myStr: # 순서를 뒤집은 myStr를 순회\n",
    "        a = ord(s) - ord('a') + 1 # 아스키코드를 활용해 1에서 26까지의 수로 변환\n",
    "        answer += a * sq # \n",
    "        sq *= x\n",
    "        sq %= m # 곱하기 연산회수의 제한을 위해 제한\n",
    "        \n",
    "    answer %= m \n",
    "    return answer"
   ]
  },
  {
   "cell_type": "code",
   "execution_count": null,
   "id": "e62678e4-0c1a-4663-9189-ccbba9f630a2",
   "metadata": {},
   "outputs": [],
   "source": []
  }
 ],
 "metadata": {
  "kernelspec": {
   "display_name": "Python 3 (ipykernel)",
   "language": "python",
   "name": "python3"
  },
  "language_info": {
   "codemirror_mode": {
    "name": "ipython",
    "version": 3
   },
   "file_extension": ".py",
   "mimetype": "text/x-python",
   "name": "python",
   "nbconvert_exporter": "python",
   "pygments_lexer": "ipython3",
   "version": "3.11.7"
  }
 },
 "nbformat": 4,
 "nbformat_minor": 5
}
