{
 "cells": [
  {
   "cell_type": "markdown",
   "id": "9e9288a3-4e12-4355-910b-e8ae373a127f",
   "metadata": {},
   "source": [
    "# **Day01 문자열(라빈카프알고리즘)**"
   ]
  },
  {
   "cell_type": "markdown",
   "id": "f72c9751-54c7-47ac-bcd3-4215e91a1528",
   "metadata": {},
   "source": [
    "해시 함수란 크기가 유동적인 데이터를 크기가 고정된 데이터에 대응시키는 함수를 의미합니다. 예를 들어 문자열은 문자의 개수에 따라 데이터의 크기가 변하기 때문에 데이터의 크기가 고정된 정수 값에 대응시키는 해시 함수를 만들 수 있습니다.\n",
    "\n",
    "해시함수를 사용하는 목적은 대부분 서로 다른 데이터를 손쉽게 구분하기 위함이기 때문에 만약 해시의 입력값이 다르면 되도록 반환값이 다르도록 해야 합니다. 따라서 알파벳 소문자로 이루어진 문자열에 대한 해시함수를 만든다면 'a' ~ 'z'는 각각 1 ~ 26에 대응시키게 됩니다.\n",
    "\n",
    "이 상태에서 문자열의 각 자리의 문자들을 각 자리의 숫자인 것처럼 계산해서 정수에 대응시키는 해시함수가 있습니다.\n",
    "\n",
    "예를 들어 특정 x값을 정한 뒤 \"acb\"를\n",
    "ax2 + cx + b = x2 + 3x + 2\n",
    "와 같은 방식으로 정수에 대응시킵니다. 이때 x의 값이 26 이상이면 모든 알파벳 소문자로 이루어진 문자열이 서로 다른 정수에 대응됩니다.\n",
    "\n",
    "문제는 해시는 고정된 크기의 데이터로 대응시키는 함수라는 점입니다. 실제로 위와 같은 방식으로 대응시키면 컴퓨터에서 정수값에는 제한이 있기 때문에 금방 제한값을 벗어나게 됩니다.\n",
    "\n",
    "따라서 보통 매우 큰 m값을 제한으로 두어 위의 계산식의 결괏값을 m으로 나눈 나머지에 대응되게 합니다. 이러면 서로 다른 문자열이 같은 값으로 대응되는 경우가 생기지만, m값이 클수록 이러한 확률이 줄어들게 됩니다.\n",
    "\n",
    "위 식에서의 정수 x와 m, 그리고 해시의 입력값으로 사용할 문자열 myStr이 주어질 때, 해시의 출력값인 정수를 반환하는 solution 함수를 완성하세요."
   ]
  },
  {
   "cell_type": "markdown",
   "id": "baadf9d2-b1f9-437c-b76c-6990c1cde4c5",
   "metadata": {},
   "source": [
    "## **제한사항**"
   ]
  },
  {
   "cell_type": "markdown",
   "id": "d7014383-5e9e-4348-90e7-0be1c21dfc34",
   "metadata": {},
   "source": [
    "+ 26 ≤ x ≤ 50\n",
    "+ 100 ≤ m ≤ 1,000,000,000\n",
    "+ 1 ≤ myStr의 길이 ≤ 1,000,000\n",
    "+ myStr은 알파벳 소문자로 이루어진 문자열입니다"
   ]
  },
  {
   "cell_type": "code",
   "execution_count": 7,
   "id": "240a222c-83d7-4e95-bde6-5ddd550bad44",
   "metadata": {},
   "outputs": [],
   "source": [
    "def solution(x, m, myStr):\n",
    "    answer = 0 # 해싱할 결과를 저장할 변수\n",
    "    sq = 1 # x를 제곱할 결과를 저장할 변수\n",
    "    myStr = myStr[::-1] # 문자열 순서를 뒤집어서 준비함\n",
    "    \n",
    "    for s in myStr: # 순서를 뒤집은 myStr를 순회\n",
    "        a = ord(s) - ord('a') + 1 # 아스키코드를 활용해 1에서 26까지의 수로 변환\n",
    "        answer += a * sq # \n",
    "        sq *= x\n",
    "        sq %= m # 곱하기 연산회수의 제한을 위해 제한\n",
    "        \n",
    "    answer %= m \n",
    "    return answer"
   ]
  }
 ],
 "metadata": {
  "kernelspec": {
   "display_name": "Python 3 (ipykernel)",
   "language": "python",
   "name": "python3"
  },
  "language_info": {
   "codemirror_mode": {
    "name": "ipython",
    "version": 3
   },
   "file_extension": ".py",
   "mimetype": "text/x-python",
   "name": "python",
   "nbconvert_exporter": "python",
   "pygments_lexer": "ipython3",
   "version": "3.11.7"
  }
 },
 "nbformat": 4,
 "nbformat_minor": 5
}
