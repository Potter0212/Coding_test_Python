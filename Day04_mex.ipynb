{
 "cells": [
  {
   "cell_type": "markdown",
   "id": "2bac52d7-9aea-48ba-9deb-4b0a7cd2d08e",
   "metadata": {},
   "source": [
    "# **Day04 mex 구하기**"
   ]
  },
  {
   "cell_type": "markdown",
   "id": "89ad0bba-8b74-43fc-a825-4c2166d5a331",
   "metadata": {},
   "source": [
    "mex란 minimum excluded의 약어로, 임의의 0 이상의 정수로 이루어진 집합에서 존재하지 않는 가장 작은 값을 의미합니다.\n",
    "\n",
    "예를 들어, 집합 {0, 1, 2, 5, 6}이 있다면 0, 1, 2가 집합 안에 존재하고 그다음 값인 3이 존재하지 않기 때문에 이 집합의 mex값은 3이 됩니다.\n",
    "\n",
    "배열 arr가 주어집니다. 이때 arr의 원소들로 이루어진 집합의 mex 값을 return 하는 solution 함수를 완성해주세요."
   ]
  },
  {
   "cell_type": "markdown",
   "id": "871ad058-e8f1-4e95-a481-200c71630c8e",
   "metadata": {},
   "source": [
    "## **제한사항**"
   ]
  },
  {
   "cell_type": "markdown",
   "id": "dcbb165c-fd88-460b-a46a-143d14c0c7de",
   "metadata": {},
   "source": [
    "+ 1 ≤ arr의 길이 ≤ 1,000,000\n",
    "+ 0 ≤ arr의 원소의 크기 ≤ 1,000,000"
   ]
  },
  {
   "cell_type": "code",
   "execution_count": null,
   "id": "e7e771c1-90a5-4fb0-a3d7-e7006eb3ccb9",
   "metadata": {},
   "outputs": [],
   "source": [
    "def solution(arr):\n",
    "    count = [0] * 1000001 # 제한사항에서의 리스트 범위 한계치를 위해 0을 1000001개 리스트 생성\n",
    "    \n",
    "    for i in arr: # 주어진 arr를 순회\n",
    "        count[i] += 1 # 카운트에 인덱스 값을 1씩 증가시킴\n",
    "    for i in range(len(count)): # 카운트를 순회\n",
    "        if count[i] == 0: # 0이 나오는 가장 작은 인덱스를 찾음\n",
    "            return i\n",
    "    return i"
   ]
  }
 ],
 "metadata": {
  "kernelspec": {
   "display_name": "Python 3 (ipykernel)",
   "language": "python",
   "name": "python3"
  },
  "language_info": {
   "codemirror_mode": {
    "name": "ipython",
    "version": 3
   },
   "file_extension": ".py",
   "mimetype": "text/x-python",
   "name": "python",
   "nbconvert_exporter": "python",
   "pygments_lexer": "ipython3",
   "version": "3.11.7"
  }
 },
 "nbformat": 4,
 "nbformat_minor": 5
}
