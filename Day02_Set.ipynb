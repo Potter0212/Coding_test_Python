{
 "cells": [
  {
   "cell_type": "markdown",
   "id": "0f72ce1c-b187-42fe-9d53-9c273ab4f7ce",
   "metadata": {},
   "source": [
    "# **Day02 셋**"
   ]
  },
  {
   "cell_type": "markdown",
   "id": "cf672483-c709-498b-9690-701fc0438767",
   "metadata": {},
   "source": [
    "알파벳 소문자로 이루어진 두 문자열 str1과 str2가 주어질 때, 둘 중 한쪽에만 있는 문자의 개수를 return 하는 solution 함수를 완성하세요."
   ]
  },
  {
   "cell_type": "markdown",
   "id": "e042b8c8-8d3f-4c77-ad23-374c26584d79",
   "metadata": {},
   "source": [
    "## **제한사항**"
   ]
  },
  {
   "cell_type": "markdown",
   "id": "7c6b2b6a-b515-44b5-ae20-2278654f714d",
   "metadata": {},
   "source": [
    "+ 1 ≤ str1,str2의 길이 ≤ 200,000"
   ]
  },
  {
   "cell_type": "code",
   "execution_count": null,
   "id": "6b9e59ef-3375-48db-8ee5-c1a79991833b",
   "metadata": {},
   "outputs": [],
   "source": [
    "def solution(str1, str2):\n",
    "    answer = 0\n",
    "    str1_set = set(str1) # str1 리스트를 set으로 변환(중복제거)\n",
    "    str2_set = set(str2) # str2 리스트를 set으로 변환(중복제거)\n",
    "    only = str1_set ^ str2_set # str1과 str2의 대칭 차집합을 구하는 과정\n",
    "    answer = len(only) # 차집합의 길이를 구함\n",
    "    return answer"
   ]
  }
 ],
 "metadata": {
  "kernelspec": {
   "display_name": "Python 3 (ipykernel)",
   "language": "python",
   "name": "python3"
  },
  "language_info": {
   "codemirror_mode": {
    "name": "ipython",
    "version": 3
   },
   "file_extension": ".py",
   "mimetype": "text/x-python",
   "name": "python",
   "nbconvert_exporter": "python",
   "pygments_lexer": "ipython3",
   "version": "3.11.7"
  }
 },
 "nbformat": 4,
 "nbformat_minor": 5
}
